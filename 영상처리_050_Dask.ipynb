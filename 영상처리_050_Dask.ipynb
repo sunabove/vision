{
 "cells": [
  {
   "cell_type": "code",
   "execution_count": 1,
   "metadata": {},
   "outputs": [
    {
     "name": "stdout",
     "output_type": "stream",
     "text": [
      "20.0 GB\n"
     ]
    }
   ],
   "source": [
    "import cupy\n",
    "import dask.array as da\n",
    "\n",
    "# generate chunked dask arrays of mamy numpy random arrays\n",
    "rs = da.random.RandomState()\n",
    "s = 50_000\n",
    "x = rs.normal(10, 1, size=(s, s), chunks=(10_000, 10_000))\n",
    "\n",
    "print( f\"{x.nbytes / 1e9:_} GB\" )  # 2 TB"
   ]
  },
  {
   "cell_type": "code",
   "execution_count": 2,
   "metadata": {},
   "outputs": [
    {
     "name": "stdout",
     "output_type": "stream",
     "text": [
      "s2 =  6875003428.773301\n",
      "s1 =  6875003428.773301\n"
     ]
    }
   ],
   "source": [
    "s2 = (x + 1)[::2, ::2].sum().compute(scheduler='threads')\n",
    "print(\"s2 = \", s2 )\n",
    "\n",
    "s1 = (x + 1)[::2, ::2].sum().compute(scheduler='single-threaded')\n",
    "print(\"s1 = \", s1 )"
   ]
  },
  {
   "cell_type": "code",
   "execution_count": null,
   "metadata": {},
   "outputs": [],
   "source": [
    "import cupy\n",
    "import dask.array as da\n"
   ]
  },
  {
   "cell_type": "code",
   "execution_count": 1,
   "metadata": {},
   "outputs": [
    {
     "data": {
      "text/plain": [
       "{'node_ip_address': '127.0.0.1',\n",
       " 'raylet_ip_address': '127.0.0.1',\n",
       " 'redis_address': '127.0.0.1:6379',\n",
       " 'object_store_address': 'tcp://127.0.0.1:26737',\n",
       " 'raylet_socket_name': 'tcp://127.0.0.1:35493',\n",
       " 'webui_url': None,\n",
       " 'session_dir': 'C:\\\\Users\\\\sunabove\\\\AppData\\\\Local\\\\Temp\\\\ray\\\\session_2021-12-27_14-28-41_772696_34784',\n",
       " 'metrics_export_port': 65438,\n",
       " 'node_id': 'eb0161903db6949abcc398ab0a79eccebbe7fc4162b83c37e206dbba'}"
      ]
     },
     "execution_count": 1,
     "metadata": {},
     "output_type": "execute_result"
    }
   ],
   "source": [
    "import ray\n",
    "\n",
    "print( \"Initializaing ray ...\" )\n",
    "ray.init()\n",
    "print( \"Initializing ray done.\")"
   ]
  },
  {
   "cell_type": "code",
   "execution_count": 2,
   "metadata": {},
   "outputs": [
    {
     "name": "stdout",
     "output_type": "stream",
     "text": [
      "[0, 1, 4, 9]\n"
     ]
    }
   ],
   "source": [
    "@ray.remote\n",
    "def f(x):\n",
    "    return x * x\n",
    "\n",
    "futures = [f.remote(i) for i in range(4)]\n",
    "print(ray.get(futures))"
   ]
  },
  {
   "cell_type": "code",
   "execution_count": 5,
   "metadata": {},
   "outputs": [
    {
     "name": "stdout",
     "output_type": "stream",
     "text": [
      "[4.41128982 9.82085117 3.95807197 ... 4.25636195 9.13352105 1.47450193]\n"
     ]
    }
   ],
   "source": [
    "import numpy as np\n",
    "\n",
    "# 메모리 공유  \n",
    "arr = np.random.random(1000000)\n",
    "arr = ray.put(arr)\n",
    " \n",
    "@ray.remote\n",
    "def mul(x):\n",
    "   return x * 10\n",
    " \n",
    "result = ray.get(mul.remote(arr))\n",
    "\n",
    "print( result )"
   ]
  }
 ],
 "metadata": {
  "interpreter": {
   "hash": "ac59ebe37160ed0dfa835113d9b8498d9f09ceb179beaac4002f036b9467c963"
  },
  "kernelspec": {
   "display_name": "Python 3.9.7 64-bit",
   "language": "python",
   "name": "python3"
  },
  "language_info": {
   "codemirror_mode": {
    "name": "ipython",
    "version": 3
   },
   "file_extension": ".py",
   "mimetype": "text/x-python",
   "name": "python",
   "nbconvert_exporter": "python",
   "pygments_lexer": "ipython3",
   "version": "3.9.7"
  },
  "orig_nbformat": 4
 },
 "nbformat": 4,
 "nbformat_minor": 2
}
