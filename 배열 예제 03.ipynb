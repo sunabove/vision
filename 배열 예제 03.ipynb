{
 "cells": [
  {
   "cell_type": "code",
   "execution_count": 8,
   "metadata": {},
   "outputs": [
    {
     "name": "stdout",
     "output_type": "stream",
     "text": [
      "****************************************\n",
      "a.shape =  (2, 3)\n",
      "a =  [[1 2 3]\n",
      " [4 5 6]]\n",
      "a.T =  [[1 4]\n",
      " [2 5]\n",
      " [3 6]]\n",
      "****************************************\n",
      "b.shape =  (1, 3)\n",
      "b =  [[1 2 3]]\n",
      "b.T =  [[1]\n",
      " [2]\n",
      " [3]]\n",
      "****************************************\n",
      "c.shape =  (3,)\n",
      "c =  [1 2 3]\n",
      "c.T =  [1 2 3]\n"
     ]
    }
   ],
   "source": [
    "import numpy as np \n",
    "\n",
    "a = np.array( [ [1, 2, 3 ], [4, 5, 6] ] )\n",
    "b = np.array( [ [1, 2, 3 ] ] )\n",
    "c = np.array( [1, 2, 3 ] )\n",
    "\n",
    "print( \"*\"*40 )\n",
    "print( \"a.shape = \", a.shape )\n",
    "print( \"a = \", a )\n",
    "print( \"a.T = \", a.T )\n",
    "\n",
    "print( \"*\"*40 )\n",
    "print( \"b.shape = \", b.shape )\n",
    "print( \"b = \", b )\n",
    "print( \"b.T = \", b.T )\n",
    "\n",
    "print( \"*\"*40 )\n",
    "print( \"c.shape = \", c.shape )\n",
    "print( \"c = \", c )\n",
    "print( \"c.T = \", c.T )"
   ]
  },
  {
   "cell_type": "code",
   "execution_count": 8,
   "metadata": {},
   "outputs": [
    {
     "name": "stdout",
     "output_type": "stream",
     "text": [
      "(3,)\n",
      "[1 2 3]\n",
      "****************************************\n",
      "(1, 3)\n",
      "[[1 2 3]]\n",
      "****************************************\n",
      "(3, 1)\n",
      "[[1]\n",
      " [2]\n",
      " [3]]\n",
      "****************************************\n"
     ]
    }
   ],
   "source": [
    "import numpy as np\n",
    "\n",
    "a = np.array( [1, 2, 3] )\n",
    "print( a.shape )\n",
    "print( a )\n",
    "print( \"*\"*40 )\n",
    "\n",
    "r = a.reshape(1, -1)\n",
    "print( r.shape )\n",
    "print( r )\n",
    "print( \"*\"*40 )\n",
    "\n",
    "c = a.reshape( -1, 1 )\n",
    "print( c.shape )\n",
    "print( c )\n",
    "print( \"*\"*40 )"
   ]
  },
  {
   "cell_type": "code",
   "execution_count": 20,
   "metadata": {},
   "outputs": [
    {
     "name": "stdout",
     "output_type": "stream",
     "text": [
      "a = \n",
      "[[ 1  2  3  4]\n",
      " [ 5  6  7  8]\n",
      " [ 9 10 11 12]]\n",
      "****************************************\n",
      "b = \n",
      "[[1 2 3 4]\n",
      " [5 6 7 8]]\n",
      "****************************************\n",
      "c = \n",
      "[[1 2]\n",
      " [3 4]\n",
      " [5 6]]\n",
      "****************************************\n",
      "d = \n",
      "[[ 1  2  3  4]\n",
      " [ 5  6  7  8]\n",
      " [ 9 10 11 12]\n",
      " [ 1  2  3  4]\n",
      " [ 5  6  7  8]]\n",
      "****************************************\n",
      "e = \n",
      "[[ 1  2  3  4  1  2]\n",
      " [ 5  6  7  8  3  4]\n",
      " [ 9 10 11 12  5  6]]\n",
      "****************************************\n"
     ]
    }
   ],
   "source": [
    "import numpy as np\n",
    "\n",
    "a = np.arange( 1, 13 ).reshape( -1, 4 )\n",
    "b = np.arange( 1, 9 ).reshape( -1, 4 )\n",
    "c = np.arange( 1, 7 ).reshape( -1, 2 )\n",
    "\n",
    "d = np.vstack( (a,b) )\n",
    "e = np.hstack( (a,c) )\n",
    "\n",
    "print( \"a = \", a, sep=\"\\n\" )\n",
    "print( \"*\"*40 )\n",
    "print( \"b = \", b, sep=\"\\n\" )\n",
    "print( \"*\"*40 )\n",
    "print( \"c = \", c, sep=\"\\n\" )\n",
    "print( \"*\"*40 )\n",
    "\n",
    "print( \"d = \", d, sep=\"\\n\" )\n",
    "print( \"*\"*40 )\n",
    "\n",
    "print( \"e = \", e, sep=\"\\n\" )\n",
    "print( \"*\"*40 )\n"
   ]
  }
 ],
 "metadata": {
  "interpreter": {
   "hash": "ac59ebe37160ed0dfa835113d9b8498d9f09ceb179beaac4002f036b9467c963"
  },
  "kernelspec": {
   "display_name": "Python 3.9.7 64-bit",
   "name": "python3"
  },
  "language_info": {
   "codemirror_mode": {
    "name": "ipython",
    "version": 3
   },
   "file_extension": ".py",
   "mimetype": "text/x-python",
   "name": "python",
   "nbconvert_exporter": "python",
   "pygments_lexer": "ipython3",
   "version": "3.9.7"
  },
  "orig_nbformat": 4
 },
 "nbformat": 4,
 "nbformat_minor": 2
}
