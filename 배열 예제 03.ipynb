{
 "cells": [
  {
   "cell_type": "code",
   "execution_count": 8,
   "metadata": {},
   "outputs": [
    {
     "name": "stdout",
     "output_type": "stream",
     "text": [
      "****************************************\n",
      "a.shape =  (2, 3)\n",
      "a =  [[1 2 3]\n",
      " [4 5 6]]\n",
      "a.T =  [[1 4]\n",
      " [2 5]\n",
      " [3 6]]\n",
      "****************************************\n",
      "b.shape =  (1, 3)\n",
      "b =  [[1 2 3]]\n",
      "b.T =  [[1]\n",
      " [2]\n",
      " [3]]\n",
      "****************************************\n",
      "c.shape =  (3,)\n",
      "c =  [1 2 3]\n",
      "c.T =  [1 2 3]\n"
     ]
    }
   ],
   "source": [
    "import numpy as np \n",
    "\n",
    "a = np.array( [ [1, 2, 3 ], [4, 5, 6] ] )\n",
    "b = np.array( [ [1, 2, 3 ] ] )\n",
    "c = np.array( [1, 2, 3 ] )\n",
    "\n",
    "print( \"*\"*40 )\n",
    "print( \"a.shape = \", a.shape )\n",
    "print( \"a = \", a )\n",
    "print( \"a.T = \", a.T )\n",
    "\n",
    "print( \"*\"*40 )\n",
    "print( \"b.shape = \", b.shape )\n",
    "print( \"b = \", b )\n",
    "print( \"b.T = \", b.T )\n",
    "\n",
    "print( \"*\"*40 )\n",
    "print( \"c.shape = \", c.shape )\n",
    "print( \"c = \", c )\n",
    "print( \"c.T = \", c.T )"
   ]
  },
  {
   "cell_type": "code",
   "execution_count": null,
   "metadata": {},
   "outputs": [],
   "source": [
    "a"
   ]
  }
 ],
 "metadata": {
  "interpreter": {
   "hash": "ac59ebe37160ed0dfa835113d9b8498d9f09ceb179beaac4002f036b9467c963"
  },
  "kernelspec": {
   "display_name": "Python 3.9.7 64-bit",
   "name": "python3"
  },
  "language_info": {
   "codemirror_mode": {
    "name": "ipython",
    "version": 3
   },
   "file_extension": ".py",
   "mimetype": "text/x-python",
   "name": "python",
   "nbconvert_exporter": "python",
   "pygments_lexer": "ipython3",
   "version": "3.9.7"
  },
  "orig_nbformat": 4
 },
 "nbformat": 4,
 "nbformat_minor": 2
}
