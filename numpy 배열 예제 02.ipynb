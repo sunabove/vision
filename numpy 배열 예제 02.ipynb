{
 "cells": [
  {
   "cell_type": "markdown",
   "metadata": {},
   "source": [
    "2차원 배열 행렬 예제입니다."
   ]
  },
  {
   "cell_type": "code",
   "execution_count": 8,
   "metadata": {},
   "outputs": [
    {
     "name": "stdout",
     "output_type": "stream",
     "text": [
      "****************************************\n",
      "[[ 1  2  3  4]\n",
      " [ 5  6  7  8]\n",
      " [ 9 10 11 12]]\n",
      "****************************************\n",
      "7\n",
      "****************************************\n",
      "[5 6 7 8]\n",
      "****************************************\n",
      "[ 3  7 11]\n",
      "****************************************\n",
      "[[ 2  3]\n",
      " [ 6  7]\n",
      " [10 11]]\n",
      "****************************************\n",
      "[[ 7  8]\n",
      " [11 12]]\n",
      "****************************************\n",
      "[[ 2  4]\n",
      " [10 12]]\n"
     ]
    }
   ],
   "source": [
    "import numpy as np\n",
    "\n",
    "def f(y, x):\n",
    "   return 4*y + x + 1\n",
    "\n",
    "a = np.fromfunction(f, (3, 4), dtype=int)\n",
    "\n",
    "print( \"*\"*40 )\n",
    "print(a)\n",
    "print( \"*\"*40 )\n",
    "print( a[ 1, 2 ] )\n",
    "print( \"*\"*40 )\n",
    "print( a[ 1, : ] )\n",
    "print( \"*\"*40 )\n",
    "print( a[ : , 2 ] )\n",
    "print( \"*\"*40 )\n",
    "print( a[:, 1:3] )\n",
    "print( \"*\"*40 )\n",
    "print( a[-2: , -2: ] )\n",
    "print( \"*\"*40 )\n",
    "print( a[ ::2, 1::2 ] )"
   ]
  },
  {
   "cell_type": "code",
   "execution_count": 16,
   "metadata": {},
   "outputs": [
    {
     "name": "stdout",
     "output_type": "stream",
     "text": [
      "a =  [[1 2 3]\n",
      " [4 5 6]]\n",
      "sum =  21\n",
      "sum axis=0 =  [5 7 9]\n",
      "sum axis=0 =  [ 6 15]\n"
     ]
    }
   ],
   "source": [
    "import numpy as np \n",
    "\n",
    "a = np.array( [ [1, 2, 3 ], [4, 5, 6] ] )\n",
    "\n",
    "print( \"a = \", a )\n",
    "print( \"sum = \", a.sum() )\n",
    "print( \"sum axis=0 = \", a.sum(axis=0) )\n",
    "print( \"sum axis=0 = \", a.sum(axis=1) )"
   ]
  },
  {
   "cell_type": "code",
   "execution_count": 27,
   "metadata": {},
   "outputs": [
    {
     "name": "stdout",
     "output_type": "stream",
     "text": [
      "a =  [1 2 3]\n",
      "b =  [1 2 3]\n",
      "a@b =  14\n",
      "inner =  14\n",
      "outer =  [[1 2 3]\n",
      " [2 4 6]\n",
      " [3 6 9]]\n"
     ]
    }
   ],
   "source": [
    "import numpy as np \n",
    "\n",
    "a = np.array( [ 1, 2, 3 ] )\n",
    "b = np.array( [ 1, 2, 3 ] )\n",
    "\n",
    "print( \"a = \", a )\n",
    "print( \"b = \", b )\n",
    "\n",
    "print( \"a@b = \", a@b )\n",
    "print( \"inner = \", np.dot(a, b) )\n",
    "print( \"outer = \", np.outer(a, b) )"
   ]
  }
 ],
 "metadata": {
  "interpreter": {
   "hash": "ac59ebe37160ed0dfa835113d9b8498d9f09ceb179beaac4002f036b9467c963"
  },
  "kernelspec": {
   "display_name": "Python 3.9.7 64-bit",
   "name": "python3"
  },
  "language_info": {
   "codemirror_mode": {
    "name": "ipython",
    "version": 3
   },
   "file_extension": ".py",
   "mimetype": "text/x-python",
   "name": "python",
   "nbconvert_exporter": "python",
   "pygments_lexer": "ipython3",
   "version": "3.9.7"
  },
  "orig_nbformat": 4
 },
 "nbformat": 4,
 "nbformat_minor": 2
}
