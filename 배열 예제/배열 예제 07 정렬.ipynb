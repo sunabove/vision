{
 "cells": [
  {
   "cell_type": "code",
   "execution_count": 1,
   "metadata": {},
   "outputs": [
    {
     "name": "stdout",
     "output_type": "stream",
     "text": [
      "a = \n",
      "[[4 8 5]\n",
      " [9 3 1]]\n",
      "a.sort() = \n",
      "[[4 5 8]\n",
      " [1 3 9]]\n",
      "a.sort(axis=0) = \n",
      "[[4 3 1]\n",
      " [9 8 5]]\n",
      "a.sort(axis=1) = \n",
      "[[4 5 8]\n",
      " [1 3 9]]\n"
     ]
    }
   ],
   "source": [
    "import numpy as np \n",
    "\n",
    "a = np.array( [ [4, 8, 5], [9, 3, 1] ] )\n",
    "\n",
    "print( 'a = ', a, sep='\\n' )\n",
    "a.sort()\n",
    "print( 'a.sort() = ', a, sep='\\n' )\n",
    "\n",
    "a = np.array( [ [4, 8, 5], [9, 3, 1] ] )\n",
    "a.sort(axis=0)\n",
    "print( 'a.sort(axis=0) = ', a, sep='\\n' )\n",
    "\n",
    "a = np.array( [ [4, 8, 5], [9, 3, 1] ] )\n",
    "a.sort(axis=1)\n",
    "print( 'a.sort(axis=1) = ', a, sep='\\n' )"
   ]
  },
  {
   "cell_type": "code",
   "execution_count": 12,
   "metadata": {},
   "outputs": [
    {
     "name": "stdout",
     "output_type": "stream",
     "text": [
      "a =  [7 4 6 5]\n",
      "b =  [1 3 2 0]\n",
      "c =  [4 5 6 7]\n",
      "a = \n",
      "[[7 2 9]\n",
      " [4 3 8]\n",
      " [6 1 7]\n",
      " [5 0 4]]\n",
      "b =  [1 3 2 0]\n",
      "c = \n",
      "[[4 3 8]\n",
      " [5 0 4]\n",
      " [6 1 7]\n",
      " [7 2 9]]\n"
     ]
    }
   ],
   "source": [
    "import numpy as np\n",
    "\n",
    "a = np.array( [7, 4, 6, 5] )\n",
    "b = np.argsort( a )\n",
    "c = a[ b ]\n",
    "\n",
    "print( 'a = ', a )\n",
    "print( 'b = ', b )\n",
    "print( 'c = ', c )\n",
    "\n",
    "a = np.array( [ [7, 2, 9], [4, 3, 8],\n",
    "               [6, 1, 7], [5, 0,4] ] \n",
    "             )\n",
    "b = np.argsort( a[:, 0] )\n",
    "c = a[ b ]\n",
    "print( 'a = ', a, sep='\\n' )\n",
    "print( 'b = ', b )\n",
    "print( 'c = ', c, sep='\\n' )"
   ]
  },
  {
   "cell_type": "code",
   "execution_count": 4,
   "metadata": {},
   "outputs": [
    {
     "name": "stdout",
     "output_type": "stream",
     "text": [
      "a = \n",
      "[[1 5]\n",
      " [2 7]\n",
      " [2 6]\n",
      " [3 4]]\n",
      "aa = \n",
      "[3 0 2 1]\n",
      "b = \n",
      "[[3 4]\n",
      " [1 5]\n",
      " [2 6]\n",
      " [2 7]]\n",
      "c = \n",
      "[[1 5]\n",
      " [2 6]\n",
      " [2 7]\n",
      " [3 4]]\n"
     ]
    }
   ],
   "source": [
    "import numpy as np\n",
    "\n",
    "a = np.array( [ [1,5], [2, 7], [2, 6 ], [3, 4] ] )\n",
    "aa = np.argsort( a[:,1] )\n",
    "b = a[ aa ]\n",
    "c = b[ np.argsort( b[:,0], kind='stable' ) ]\n",
    "\n",
    "print( 'a = ', a , sep='\\n' )\n",
    "print( 'aa = ', aa , sep='\\n' )\n",
    "print( 'b = ', b , sep='\\n' )\n",
    "print( 'c = ', c , sep='\\n' )"
   ]
  },
  {
   "cell_type": "code",
   "execution_count": 5,
   "metadata": {},
   "outputs": [
    {
     "name": "stdout",
     "output_type": "stream",
     "text": [
      "a = \n",
      "[[3 4]\n",
      " [2 7]\n",
      " [1 5]\n",
      " [2 6]]\n",
      "b = \n",
      "[[4 7 5 6]\n",
      " [3 2 1 2]]\n",
      "c =  [2 3 1 0]\n",
      "d = \n",
      "[[1 5]\n",
      " [2 6]\n",
      " [2 7]\n",
      " [3 4]]\n"
     ]
    }
   ],
   "source": [
    "import numpy as np\n",
    "\n",
    "a = np.array( [ [3,4], [2, 7], [1, 5], [2, 6] ] )\n",
    "b = np.rot90(a)\n",
    "c = np.lexsort( b )\n",
    "d = a[c]\n",
    "\n",
    "print( 'a = ', a , sep='\\n' )\n",
    "print( 'b = ', b , sep='\\n' )\n",
    "print( 'c = ', c , )\n",
    "print( 'd = ', d , sep='\\n' )"
   ]
  }
 ],
 "metadata": {
  "interpreter": {
   "hash": "ac59ebe37160ed0dfa835113d9b8498d9f09ceb179beaac4002f036b9467c963"
  },
  "kernelspec": {
   "display_name": "Python 3.9.7 64-bit",
   "language": "python",
   "name": "python3"
  },
  "language_info": {
   "codemirror_mode": {
    "name": "ipython",
    "version": 3
   },
   "file_extension": ".py",
   "mimetype": "text/x-python",
   "name": "python",
   "nbconvert_exporter": "python",
   "pygments_lexer": "ipython3",
   "version": "3.9.7"
  },
  "orig_nbformat": 4
 },
 "nbformat": 4,
 "nbformat_minor": 2
}
