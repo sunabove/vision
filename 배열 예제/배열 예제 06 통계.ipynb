{
 "cells": [
  {
   "cell_type": "code",
   "execution_count": 10,
   "metadata": {},
   "outputs": [
    {
     "name": "stdout",
     "output_type": "stream",
     "text": [
      "a = \n",
      "[[4 8 5]\n",
      " [9 3 1]]\n",
      "******************************\n",
      "argmin() =  5\n",
      "argmin(axis=0) [0 1 1]\n",
      "argmin(axis=1) [0 2]\n",
      "np.unravel_index(...) =  (1, 2)\n",
      "np.unravel_index(...) =  (array([0, 0, 0], dtype=int64), array([0, 1, 1], dtype=int64))\n",
      "np.unravel_index(...) =  (array([0, 0], dtype=int64), array([0, 2], dtype=int64))\n"
     ]
    }
   ],
   "source": [
    "import numpy as np\n",
    "\n",
    "a = np.array( [ [4, 8, 5], [9, 3, 1] ] )\n",
    "\n",
    "print( \"a = \", a, \"*\"*30, sep=\"\\n\" )\n",
    "\n",
    "print( \"argmin() = \", a.argmin() )\n",
    "print( \"argmin(axis=0)\", a.argmin(axis=0) )\n",
    "print( \"argmin(axis=1)\", a.argmin(axis=1) )\n",
    "print( \"np.unravel_index(...) = \", np.unravel_index(a.argmin(), a.shape))\n",
    "print( \"np.unravel_index(...) = \", np.unravel_index(a.argmin(axis=0), a.shape))\n",
    "print( \"np.unravel_index(...) = \", np.unravel_index(a.argmin(axis=1), a.shape))"
   ]
  },
  {
   "cell_type": "code",
   "execution_count": 8,
   "metadata": {},
   "outputs": [
    {
     "name": "stdout",
     "output_type": "stream",
     "text": [
      "a = \n",
      "[[1 2 3]\n",
      " [4 5 6]]\n",
      "********************\n",
      "np.any( a>5 )\n",
      "True\n",
      "********************\n",
      "np.any( a>5, axis=0 )\n",
      "[False False  True]\n",
      "********************\n",
      "np.any( a>5, axis=1 )\n",
      "[False  True]\n",
      "********************\n"
     ]
    }
   ],
   "source": [
    "import numpy as np \n",
    "\n",
    "a = np.arange( 1, 7 ).reshape( 2, -1 )\n",
    "\n",
    "print( \"a = \", a, \"*\"*20, sep=\"\\n\" )\n",
    "print( \"np.any( a>5 )\", np.any( a>5 ), \"*\"*20, sep=\"\\n\" )\n",
    "print( \"np.any( a>5, axis=0 )\", np.any( a>5, axis=0 ), \"*\"*20, sep=\"\\n\" )\n",
    "print( \"np.any( a>5, axis=1 )\", np.any( a>5, axis=1 ), \"*\"*20, sep=\"\\n\" )"
   ]
  }
 ],
 "metadata": {
  "interpreter": {
   "hash": "ac59ebe37160ed0dfa835113d9b8498d9f09ceb179beaac4002f036b9467c963"
  },
  "kernelspec": {
   "display_name": "Python 3.9.7 64-bit",
   "language": "python",
   "name": "python3"
  },
  "language_info": {
   "codemirror_mode": {
    "name": "ipython",
    "version": 3
   },
   "file_extension": ".py",
   "mimetype": "text/x-python",
   "name": "python",
   "nbconvert_exporter": "python",
   "pygments_lexer": "ipython3",
   "version": "3.9.7"
  },
  "orig_nbformat": 4
 },
 "nbformat": 4,
 "nbformat_minor": 2
}
