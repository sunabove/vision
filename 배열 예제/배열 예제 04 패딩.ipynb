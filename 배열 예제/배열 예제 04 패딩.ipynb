{
 "cells": [
  {
   "cell_type": "code",
   "execution_count": 1,
   "metadata": {},
   "outputs": [
    {
     "name": "stdout",
     "output_type": "stream",
     "text": [
      "a = \n",
      "[[ 1  2  3  4  5]\n",
      " [ 6  7  8  9 10]\n",
      " [11 12 13 14 15]]\n",
      "****************************************\n",
      "b = \n",
      "[[ 1  2  3  4  5]\n",
      " [ 6  7  8  9 10]\n",
      " [11 12 13 14 15]\n",
      " [ 1  1  1  1  1]]\n",
      "****************************************\n",
      "c = \n",
      "[[ 1  2  3  4  5  0  0]\n",
      " [ 6  7  8  9 10  0  0]\n",
      " [11 12 13 14 15  0  0]]\n",
      "****************************************\n",
      "d = \n",
      "[[ 0  0  0  0  0  0  0]\n",
      " [ 0  1  2  3  4  5  0]\n",
      " [ 0  6  7  8  9 10  0]\n",
      " [ 0 11 12 13 14 15  0]\n",
      " [ 0  0  0  0  0  0  0]]\n",
      "****************************************\n"
     ]
    }
   ],
   "source": [
    "import numpy as np\n",
    "a = np.arange(1,16).reshape( -1, 5 )\n",
    "\n",
    "print( \"a = \", a, \"*\"*40, sep=\"\\n\")\n",
    "\n",
    "# 상하좌우에 패딩 \n",
    "b = np.pad( a, ( (0,1), (0, 0) ), constant_values=1)\n",
    "\n",
    "print( \"b = \", b, \"*\"*40, sep=\"\\n\")\n",
    "\n",
    "# 상하좌우에 패딩 \n",
    "c = np.pad( a, ( (0,0), (0, 2) ) )\n",
    "print( \"c = \", c, \"*\"*40, sep=\"\\n\")\n",
    "\n",
    "# 상하좌우에 패딩 \n",
    "d = np.pad( a, 1 )\n",
    "print( \"d = \", d, \"*\"*40, sep=\"\\n\")\n"
   ]
  },
  {
   "cell_type": "code",
   "execution_count": null,
   "metadata": {},
   "outputs": [],
   "source": [
    "# 메시 그리드 "
   ]
  }
 ],
 "metadata": {
  "interpreter": {
   "hash": "ac59ebe37160ed0dfa835113d9b8498d9f09ceb179beaac4002f036b9467c963"
  },
  "kernelspec": {
   "display_name": "Python 3.9.7 64-bit",
   "language": "python",
   "name": "python3"
  },
  "language_info": {
   "codemirror_mode": {
    "name": "ipython",
    "version": 3
   },
   "file_extension": ".py",
   "mimetype": "text/x-python",
   "name": "python",
   "nbconvert_exporter": "python",
   "pygments_lexer": "ipython3",
   "version": "3.9.7"
  },
  "orig_nbformat": 4
 },
 "nbformat": 4,
 "nbformat_minor": 2
}
