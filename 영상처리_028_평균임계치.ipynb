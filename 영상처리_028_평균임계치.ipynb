{
 "cells": [
  {
   "cell_type": "code",
   "execution_count": 9,
   "metadata": {},
   "outputs": [
    {
     "name": "stdout",
     "output_type": "stream",
     "text": [
      "CPU average threshold\n",
      "Saving ... [img_name] => [temp_000.png]\n",
      "Saving ... [img_name] => [temp_001.png]\n",
      "Saving ... [img_name] => [temp_002.png]\n",
      "Saving ... [img_name] => [temp_003.png]\n",
      "Thresholding temp_000.png\n",
      "Thresholding temp_001.png\n",
      "Thresholding temp_002.png\n",
      "Thresholding temp_003.png\n"
     ]
    }
   ],
   "source": [
    "%%time\n",
    "import numpy as np\n",
    "from matplotlib import pyplot as plt\n",
    "from skimage import io\n",
    "\n",
    "print( \"CPU average threshold\" )\n",
    "\n",
    "img_names = []\n",
    "img_names.append( 'https://images.pexels.com/photos/842711/pexels-photo-842711.jpeg?auto=compress&cs=tinysrgb&dpr=2&h=650&w=940' )\n",
    "img_names.append( 'http://3.bp.blogspot.com/-eilZTdgbWPA/XFUltCS4Z1I/AAAAAAAABz0/feDxTa3Emtsb3Wx4xxu0hWnFrohqtwQfwCKgBGAs/w0/mountain-lake-scenery-nature-cottage-25-4K.jpg' )\n",
    "img_names.append ( 'http://images.pexels.com/photos/1379636/pexels-photo-1379636.jpeg?cs=srgb&dl=pexels-irina-iriser-1379636.jpg&fm=jpg' )\n",
    "img_names.append( 'http://images.pexels.com/photos/853199/pexels-photo-853199.jpeg?auto=compress&cs=tinysrgb&dpr=2&h=650&w=940' )\n",
    "\n",
    "# file download from a url\n",
    "f_names = []\n",
    "for i, img_name in enumerate( img_names ) :\n",
    "    import urllib.request\n",
    "\n",
    "    opener = urllib.request.build_opener()\n",
    "    opener.addheaders = [('User-Agent', 'MyApp/1.0')]\n",
    "    urllib.request.install_opener(opener)\n",
    "    f_name = f\"temp_{i:03d}.png\"\n",
    "\n",
    "    print( f\"Saving ... [img_name] => [{f_name}]\" )\n",
    "    urllib.request.urlretrieve( img_name, f_name )\n",
    "\n",
    "    f_names.append( f_name )\n",
    "pass\n",
    "\n",
    "row_cnt = len( img_names ); col_cnt = 3;\n",
    "fig, charts = plt.subplots( row_cnt, col_cnt, figsize=(6*col_cnt, 4*row_cnt) )\n",
    "charts = charts.flatten() if row_cnt*col_cnt >= 2 else [ charts ]\n",
    "idx = 0\n",
    "\n",
    "print()\n",
    "\n",
    "for i, f_name in enumerate( f_names ) :\n",
    "    print( f\"Thresholding {f_name}\" )\n",
    "\n",
    "    img = io.imread( f_name ) \n",
    "\n",
    "    img_color = img\n",
    "\n",
    "    # 회색조 변환\n",
    "    gray = img[:,:,0]/3 + img[:,:,1]/3 + img[:,:,2]/3 \n",
    "    img = gray\n",
    "\n",
    "    # 평균값 구하기 \n",
    "    avg = np.average( img )\n",
    "\n",
    "    # 평균값 임계치 적용  \n",
    "\n",
    "    thresh = np.where( img < avg, 0 , 1 )\n",
    "\n",
    "    chart = charts[idx]\n",
    "    chart.imshow( img_color )\n",
    "    chart.set_title( f'\\nOriginal ({i+1:02d})\\n' )\n",
    "    idx += 1\n",
    "\n",
    "    chart = charts[idx]\n",
    "    chart.imshow( gray, cmap='gray' )\n",
    "    chart.set_title( '\\nGrayscale\\n' )\n",
    "    idx += 1\n",
    "\n",
    "    chart = charts[idx]\n",
    "    chart.imshow( thresh, cmap='gray' )\n",
    "    chart.set_title( '\\nThreshold\\n' )\n",
    "    idx += 1\n",
    "pass\n",
    "\n",
    "plt.tight_layout(); plt.show()"
   ]
  },
  {
   "cell_type": "code",
   "execution_count": 6,
   "metadata": {},
   "outputs": [
    {
     "name": "stdout",
     "output_type": "stream",
     "text": [
      "GPU average threshold\n"
     ]
    },
    {
     "ename": "NameError",
     "evalue": "name 'f_names' is not defined",
     "output_type": "error",
     "traceback": [
      "\u001b[1;31m---------------------------------------------------------------------------\u001b[0m",
      "\u001b[1;31mNameError\u001b[0m                                 Traceback (most recent call last)",
      "\u001b[1;32m<timed exec>\u001b[0m in \u001b[0;36m<module>\u001b[1;34m\u001b[0m\n",
      "\u001b[1;31mNameError\u001b[0m: name 'f_names' is not defined"
     ]
    },
    {
     "data": {
      "image/png": "[encoded data removed]",
      "text/plain": [
       "<Figure size 1296x1152 with 12 Axes>"
      ]
     },
     "metadata": {
      "needs_background": "light"
     },
     "output_type": "display_data"
    }
   ],
   "source": [
    "%%time\n",
    "import cupy as np\n",
    "import cupy\n",
    "from matplotlib import pyplot as plt\n",
    "from skimage import io\n",
    "\n",
    "print( \"GPU average threshold\" )\n",
    "\n",
    "img_names = []\n",
    "img_names.append( 'https://images.pexels.com/photos/842711/pexels-photo-842711.jpeg?auto=compress&cs=tinysrgb&dpr=2&h=650&w=940' )\n",
    "img_names.append( 'http://3.bp.blogspot.com/-eilZTdgbWPA/XFUltCS4Z1I/AAAAAAAABz0/feDxTa3Emtsb3Wx4xxu0hWnFrohqtwQfwCKgBGAs/w0/mountain-lake-scenery-nature-cottage-25-4K.jpg' )\n",
    "img_names.append ( 'http://images.pexels.com/photos/1379636/pexels-photo-1379636.jpeg?cs=srgb&dl=pexels-irina-iriser-1379636.jpg&fm=jpg' )\n",
    "img_names.append( 'http://images.pexels.com/photos/853199/pexels-photo-853199.jpeg?auto=compress&cs=tinysrgb&dpr=2&h=650&w=940' )\n",
    "\n",
    "row_cnt = len( img_names ); col_cnt = 3;\n",
    "fig, charts = plt.subplots( row_cnt, col_cnt, figsize=(6*col_cnt, 4*row_cnt) )\n",
    "charts = charts.flatten() if row_cnt*col_cnt >= 2 else [ charts ]\n",
    "idx = 0\n",
    "\n",
    "for i, f_name in enumerate( f_names ) :\n",
    "    img = io.imread( f_name ) \n",
    "\n",
    "    img = cupy.array( img )\n",
    "\n",
    "    img_color = img\n",
    "\n",
    "    # 회색조 변환\n",
    "    gray = img[:,:,0]/3 + img[:,:,1]/3 + img[:,:,2]/3 \n",
    "    img = gray\n",
    "\n",
    "    # 평균값 구하기 \n",
    "    avg = np.average( img )\n",
    "\n",
    "    # 평균값 임계치 적용  \n",
    "\n",
    "    thresh = np.where( img < avg, 0 , 1 )\n",
    "\n",
    "    chart = charts[idx]\n",
    "    chart.imshow( cupy.asnumpy( img_color ) )\n",
    "    chart.set_title( f'\\nOriginal ({i+1:02d})\\n' )\n",
    "    idx += 1\n",
    "\n",
    "    chart = charts[idx]\n",
    "    chart.imshow( cupy.asnumpy( gray ), cmap='gray' )\n",
    "    chart.set_title( '\\nGrayscale\\n' )\n",
    "    idx += 1\n",
    "\n",
    "    chart = charts[idx]\n",
    "    chart.imshow( cupy.asnumpy( thresh ), cmap='gray' )\n",
    "    chart.set_title( '\\nThreshold\\n' )\n",
    "    idx += 1\n",
    "pass\n",
    "\n",
    "plt.tight_layout(); plt.show()"
   ]
  }
 ],
 "metadata": {
  "interpreter": {
   "hash": "ac59ebe37160ed0dfa835113d9b8498d9f09ceb179beaac4002f036b9467c963"
  },
  "kernelspec": {
   "display_name": "Python 3.9.7 64-bit",
   "language": "python",
   "name": "python3"
  },
  "language_info": {
   "codemirror_mode": {
    "name": "ipython",
    "version": 3
   },
   "file_extension": ".py",
   "mimetype": "text/x-python",
   "name": "python",
   "nbconvert_exporter": "python",
   "pygments_lexer": "ipython3",
   "version": "3.9.7"
  },
  "orig_nbformat": 4
 },
 "nbformat": 4,
 "nbformat_minor": 2
}
