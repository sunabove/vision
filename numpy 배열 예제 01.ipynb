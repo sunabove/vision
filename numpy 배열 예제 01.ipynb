{
 "cells": [
  {
   "cell_type": "code",
   "execution_count": 4,
   "metadata": {},
   "outputs": [
    {
     "name": "stdout",
     "output_type": "stream",
     "text": [
      "[2, 4, 6]\n"
     ]
    }
   ],
   "source": [
    "a = [ 1, 2, 3 ]\n",
    "b = [ q*2 for q in a ]\n",
    "print( b )"
   ]
  },
  {
   "cell_type": "code",
   "execution_count": 5,
   "metadata": {},
   "outputs": [
    {
     "name": "stdout",
     "output_type": "stream",
     "text": [
      "[2 4 6]\n"
     ]
    }
   ],
   "source": [
    "import numpy as np\n",
    "a = np.array( [ 1, 2, 3 ] )\n",
    "b = a*2\n",
    "print( b )"
   ]
  },
  {
   "cell_type": "code",
   "execution_count": 8,
   "metadata": {},
   "outputs": [
    {
     "name": "stdout",
     "output_type": "stream",
     "text": [
      "[4, 10, 18]\n"
     ]
    }
   ],
   "source": [
    "a = [ 1, 2, 3 ]\n",
    "b = [ 4, 5, 6 ]\n",
    "c = [ q*r for q, r in zip(a, b) ]\n",
    "print( c )"
   ]
  },
  {
   "cell_type": "code",
   "execution_count": 9,
   "metadata": {},
   "outputs": [
    {
     "name": "stdout",
     "output_type": "stream",
     "text": [
      "[ 4 10 18]\n"
     ]
    }
   ],
   "source": [
    "a = np.array( [ 1, 2, 3 ] )\n",
    "b = np.array( [ 4, 5, 6 ] )\n",
    "c = a * b\n",
    "print( c )"
   ]
  },
  {
   "cell_type": "code",
   "execution_count": 10,
   "metadata": {},
   "outputs": [
    {
     "name": "stdout",
     "output_type": "stream",
     "text": [
      "float64 (3,)\n",
      "int32 (3,)\n",
      "float64 (3,)\n"
     ]
    }
   ],
   "source": [
    "import numpy as np\n",
    "\n",
    "a = np.array( [ 1., 2., 3. ] )\n",
    "b = np.zeros(3, int)\n",
    "c = np.zeros_like(a)\n",
    "\n",
    "print( a.dtype, a.shape )\n",
    "print( b.dtype, b.shape )\n",
    "print( c.dtype, c.shape )"
   ]
  },
  {
   "cell_type": "code",
   "execution_count": 11,
   "metadata": {},
   "outputs": [
    {
     "name": "stdout",
     "output_type": "stream",
     "text": [
      "[0 1 2 3 4 5]\n",
      "[2 3 4 5]\n",
      "[1 3 5]\n",
      "[0.  0.1 0.2 0.3 0.4 0.5]\n"
     ]
    }
   ],
   "source": [
    "import numpy as np\n",
    "\n",
    "a = np.arange( 6 )\n",
    "a = np.arange( 0, 6 )\n",
    "a = np.arange( 0, 6, 1 )\n",
    "\n",
    "b = np.arange( 2, 6 )\n",
    "b = np.arange( 2, 6, 1 )\n",
    "\n",
    "c = np.arange( 1, 6, 2 )\n",
    "\n",
    "d = np.linspace( 0, 0.5, 6 )\n",
    "\n",
    "print( a )\n",
    "print( b )\n",
    "print( c )\n",
    "print( d )"
   ]
  },
  {
   "cell_type": "code",
   "execution_count": 12,
   "metadata": {},
   "outputs": [
    {
     "name": "stdout",
     "output_type": "stream",
     "text": [
      "[8 1 2]\n",
      "[0.55335018 0.94285357 0.93999172]\n",
      "[0.62124191 0.42316321 0.1070448 ]\n",
      "[4.09001125 2.71341622 9.36116281]\n",
      "[5.67107263 0.56755332 8.74685654]\n"
     ]
    }
   ],
   "source": [
    "import numpy as np\n",
    "\n",
    "a = np.random.randint( 0, 10, 3 )\n",
    "b = np.random.rand( 3 )\n",
    "c = np.random.randn( 3 )\n",
    "\n",
    "d = np.random.uniform( 1, 10 ,3)\n",
    "e = np.random.normal( 5, 2, 3 )\n",
    "\n",
    "print( a )\n",
    "print( b )\n",
    "print( c )\n",
    "print( d )\n",
    "print( e )"
   ]
  },
  {
   "cell_type": "code",
   "execution_count": 19,
   "metadata": {},
   "outputs": [
    {
     "name": "stdout",
     "output_type": "stream",
     "text": [
      "[1 3 5]\n",
      "[5 3 1]\n"
     ]
    }
   ],
   "source": [
    "import numpy as np\n",
    "\n",
    "a = np.arange( 1, 6 )\n",
    "\n",
    "#print( a[1] )\n",
    "#print( a[2:4] )\n",
    "#print( a[-2:] )\n",
    "print( a[ : : 2] )\n",
    "\n",
    "print( a[ : :-2] )\n",
    "#print( a[ [1, 3, 4] ] )\n",
    "\n",
    "a[ 2: 4 ] = 0 \n",
    "#print( a )"
   ]
  },
  {
   "cell_type": "code",
   "execution_count": 23,
   "metadata": {},
   "outputs": [
    {
     "name": "stdout",
     "output_type": "stream",
     "text": [
      "[1 2 3]\n",
      "[4 5 6]\n",
      "[-2 -1  0]\n",
      "[3 6 9]\n",
      "[0.33333333 0.66666667 1.        ]\n",
      "[0 1 1]\n",
      "[1 4 9]\n"
     ]
    }
   ],
   "source": [
    "import numpy as np\n",
    "\n",
    "a = np.array( [ 1, 2, 3 ] )\n",
    "\n",
    "b = a + 3\n",
    "c = a - 3\n",
    "\n",
    "d = a * 3\n",
    "e = a / 3   # 실수 나눗셈\n",
    "f = a // 2  # 정수 나눗셈\n",
    "\n",
    "g = a ** 2\n",
    "\n",
    "print( a )\n",
    "print( b )\n",
    "print( c )\n",
    "print( d )\n",
    "print( e )\n",
    "print( f )\n",
    "print( g )"
   ]
  },
  {
   "cell_type": "code",
   "execution_count": 25,
   "metadata": {},
   "outputs": [
    {
     "name": "stdout",
     "output_type": "stream",
     "text": [
      "1.5\n",
      "1\n"
     ]
    }
   ],
   "source": [
    "print( 3/2 )  # 실수 나눗셈\n",
    "print( 3//2 ) # 정수 나눗셈"
   ]
  },
  {
   "cell_type": "code",
   "execution_count": 26,
   "metadata": {},
   "outputs": [
    {
     "name": "stdout",
     "output_type": "stream",
     "text": [
      "[[ 0  1  2  3]\n",
      " [10 11 12 13]\n",
      " [20 21 22 23]\n",
      " [30 31 32 33]\n",
      " [40 41 42 43]]\n"
     ]
    }
   ],
   "source": [
    "import numpy as np\n",
    "\n",
    "def f(y, x):\n",
    "   return 10*y + x\n",
    "\n",
    "b = np.fromfunction(f, (5, 4), dtype=int)\n",
    "\n",
    "print(b)"
   ]
  },
  {
   "cell_type": "code",
   "execution_count": 5,
   "metadata": {},
   "outputs": [
    {
     "name": "stdout",
     "output_type": "stream",
     "text": [
      "True\n",
      "[6 7 6]\n",
      "False\n",
      "[1 2 3 4 5 0 0 0 5 4 3 2 1]\n",
      "[1 2 0 0 0 6 7 6 0 0 0 2 1]\n"
     ]
    }
   ],
   "source": [
    "import numpy as np\n",
    "\n",
    "a = np.array( [1,2,3,4,5,6,7,6,5,4,3,2,1] )\n",
    "\n",
    "b = np.any( a > 5 ) # 5 보다 큰 값의 존재 여부\n",
    "print( b )\n",
    "c = a[ a > 5 ]  # 5 보다 큰 배열들\n",
    "print( c )\n",
    "d = np.all( a> 5 ) # 모들 배열들이 5 보다 큰 값인지를 체크\n",
    "print( d )\n",
    "\n",
    "a[ a > 5 ] = 0 # 5 보다 큰 배열들의 값을 0으로 설정\n",
    "print( a )\n",
    "\n",
    "a = np.array( [1,2,3,4,5,6,7,6,5,4,3,2,1] )\n",
    "a[ (a >=3) & (a <= 5) ] = 0  # 3이상 5이하인 배열들을 0으로 설정\n",
    "print( a )\n"
   ]
  },
  {
   "cell_type": "code",
   "execution_count": 3,
   "metadata": {},
   "outputs": [
    {
     "name": "stdout",
     "output_type": "stream",
     "text": [
      "[1 2 3 4 5 6 7 6 5 4 3 2 1]\n",
      "[False False False False False  True  True  True False False False False\n",
      " False]\n",
      "****************************************\n",
      "(array([5, 6, 7], dtype=int64),)\n",
      "(array([5, 6, 7], dtype=int64),)\n",
      "****************************************\n",
      "[1 2 3 4 5 6 7 6 5 4 3 2 1]\n",
      "[0 0 0 0 1 1 1 1 1 0 0 0 0]\n",
      "****************************************\n",
      "[1 2 3 4 5 6 7 6 5 4 3 2 1]\n",
      "[3 3 3 4 5 5 5 5 5 4 3 3 3]\n",
      "[3 3 3 4 5 5 5 5 5 4 3 3 3]\n"
     ]
    }
   ],
   "source": [
    "import numpy as np\n",
    "\n",
    "a = np.array( [1,2,3,4,5,6,7,6,5,4,3,2,1] )\n",
    "b = a > 5 # 5 초과 여부 판별 배열 \n",
    "print( a, b, \"*\"*40, sep='\\n' ) \n",
    "c = np.where( a > 5 )  # 5초과 데이터들의 인덱스 배열\n",
    "d = np.nonzero( a > 5 ) # 5초과 데이터들의 인덱스 배열 \n",
    "print( c, d, \"*\"*40, sep='\\n' ) \n",
    "\n",
    "# 5 미만은 0으로, 5 이상은 1 로 설정 \n",
    "a[ a < 5 ] = 0; a[ a >= 5 ] = 1\n",
    "a = np.array( [1,2,3,4,5,6,7,6,5,4,3,2,1] )\n",
    "e = np.where( a >= 5, 1, 0 )\n",
    "print( a, e, \"*\"*40, sep='\\n' )\n",
    "\n",
    "print( a )\n",
    "# 3 미만은 3으로, 5초과는 5로 설정\n",
    "a[ a < 3 ] = 3; a[ a > 5 ] = 5\n",
    "print( a )\n",
    "a = np.array( [1,2,3,4,5,6,7,6,5,4,3,2,1] )\n",
    "f = np.clip(a, 3, 5 )\n",
    "print( f )"
   ]
  },
  {
   "cell_type": "code",
   "execution_count": 7,
   "metadata": {},
   "outputs": [
    {
     "name": "stdout",
     "output_type": "stream",
     "text": [
      "[ 6 13]\n",
      "[2 3]\n",
      "[ 8 40]\n",
      "[2.  1.6]\n",
      "[2 1]\n",
      "[   16 32768]\n"
     ]
    }
   ],
   "source": [
    "import numpy as np\n",
    "\n",
    "a = np.array( [4, 8] )\n",
    "b = np.array( [2, 5] )\n",
    "\n",
    "print( a + b )\n",
    "print( a - b )\n",
    "print( a * b )\n",
    "print( a / b )\n",
    "print( a // b )\n",
    "print( a ** b )"
   ]
  },
  {
   "cell_type": "code",
   "execution_count": 10,
   "metadata": {},
   "outputs": [
    {
     "name": "stdout",
     "output_type": "stream",
     "text": [
      "[4 9]\n",
      "[2. 3.]\n",
      "[2.71828183 7.3890561 ]\n",
      "[1. 2.]\n"
     ]
    }
   ],
   "source": [
    "import numpy as np\n",
    "\n",
    "a = np.array( [2, 3] )\n",
    "\n",
    "print( a ** 2 )\n",
    "print( np.sqrt( [4, 9] ) )\n",
    "print( np.exp( [1, 2] ) )\n",
    "print( np.log( [np.e, np.e**2] ) )"
   ]
  },
  {
   "cell_type": "code",
   "execution_count": 14,
   "metadata": {},
   "outputs": [
    {
     "name": "stdout",
     "output_type": "stream",
     "text": [
      "11\n",
      "11\n",
      "[0 0 6]\n"
     ]
    }
   ],
   "source": [
    "import numpy as np\n",
    "\n",
    "a = np.array( [1, 2] )\n",
    "b = np.array( [3, 4] )\n",
    "\n",
    "print( np.dot( a, b ) )\n",
    "print( a @ b )\n",
    "\n",
    "print( np.cross( [2, 0, 0], [0, 3, 0] ) )"
   ]
  },
  {
   "cell_type": "code",
   "execution_count": 15,
   "metadata": {},
   "outputs": [
    {
     "name": "stdout",
     "output_type": "stream",
     "text": [
      "[1.2246468e-16 1.0000000e+00]\n",
      "[0.         1.57079633]\n",
      "[ 5. 13.]\n"
     ]
    }
   ],
   "source": [
    "import numpy as np\n",
    "\n",
    "print( np.sin( [ np.pi, np.pi/2 ] ) )\n",
    "print( np.arcsin( [ 0., 1. ] ) )\n",
    "\n",
    "print( np.hypot( [3., 5.], [4., 12.] ) )"
   ]
  },
  {
   "cell_type": "code",
   "execution_count": 16,
   "metadata": {},
   "outputs": [
    {
     "name": "stdout",
     "output_type": "stream",
     "text": [
      "[1. 1. 1. 2.]\n",
      "[2. 2. 2. 3.]\n",
      "[1. 2. 2. 2.]\n"
     ]
    }
   ],
   "source": [
    "import numpy as np\n",
    "\n",
    "a = np.array( [ 1.1, 1.5, 1.9, 2.5 ] )\n",
    "print( np.floor( a ) )\n",
    "print( np.ceil( a ) )\n",
    "print( np.round( a ) )"
   ]
  },
  {
   "cell_type": "code",
   "execution_count": 14,
   "metadata": {},
   "outputs": [
    {
     "name": "stdout",
     "output_type": "stream",
     "text": [
      "3 3\n",
      "2 2\n",
      "****************************************\n",
      "1 1\n",
      "0 0\n",
      "****************************************\n",
      "6 6\n",
      "2.0 2.0\n",
      "0.6666666666666666 0.6666666666666666\n",
      "0.816496580927726 0.816496580927726\n"
     ]
    }
   ],
   "source": [
    "import numpy as np \n",
    "\n",
    "a = np.array( [ 1, 2, 3 ] )\n",
    "\n",
    "print( a.max(), np.max( a ) )\n",
    "print( a.argmax(), np.argmax( a ) )\n",
    "\n",
    "print( \"*\"*40 )\n",
    "print( a.min(), np.min( a ) )\n",
    "print( a.argmin(), np.argmin( a ) ) \n",
    "\n",
    "print( \"*\"*40 )\n",
    "print( a.sum(), np.sum( a ) )\n",
    "print( a.mean(), np.mean( a ) )\n",
    "print( a.var(), np.var( a ) )\n",
    "print( a.std(), np.std( a ) )"
   ]
  },
  {
   "cell_type": "code",
   "execution_count": 18,
   "metadata": {},
   "outputs": [
    {
     "name": "stdout",
     "output_type": "stream",
     "text": [
      "[1, 2, 3]\n",
      "[3 2 1]\n",
      "[1 2 3]\n"
     ]
    }
   ],
   "source": [
    "a = [ 3, 2, 1]\n",
    "a.sort()\n",
    "print( a )\n",
    "\n",
    "import numpy as np \n",
    "a = np.array( [ 3, 2, 1 ] )\n",
    "np.sort( a )\n",
    "print( a )\n",
    "a.sort()\n",
    "print( a )"
   ]
  },
  {
   "cell_type": "code",
   "execution_count": null,
   "metadata": {},
   "outputs": [],
   "source": []
  }
 ],
 "metadata": {
  "interpreter": {
   "hash": "ac59ebe37160ed0dfa835113d9b8498d9f09ceb179beaac4002f036b9467c963"
  },
  "kernelspec": {
   "display_name": "Python 3.9.7 64-bit",
   "name": "python3"
  },
  "language_info": {
   "codemirror_mode": {
    "name": "ipython",
    "version": 3
   },
   "file_extension": ".py",
   "mimetype": "text/x-python",
   "name": "python",
   "nbconvert_exporter": "python",
   "pygments_lexer": "ipython3",
   "version": "3.9.7"
  }
 },
 "nbformat": 4,
 "nbformat_minor": 2
}
